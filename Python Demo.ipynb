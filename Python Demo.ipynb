{
  "cells": [
    {
      "cell_type": "raw",
      "metadata": {},
      "source": [
        "---\n",
        "title: \"Python Demonstration\"\n",
        "editor: visual\n",
        "engine: jupyter\n",
        "---"
      ],
      "id": "54c7a844"
    },
    {
      "cell_type": "markdown",
      "metadata": {},
      "source": [
        "#Introduction"
      ],
      "id": "646d61fc"
    },
    {
      "cell_type": "code",
      "metadata": {},
      "source": [
        "import pandas as pd\n",
        "import numpy as np"
      ],
      "id": "2dbeea4c",
      "execution_count": null,
      "outputs": []
    }
  ],
  "metadata": {
    "kernelspec": {
      "display_name": "Python 3",
      "language": "python",
      "name": "python3"
    }
  },
  "nbformat": 4,
  "nbformat_minor": 5
}